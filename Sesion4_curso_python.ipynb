{
  "nbformat": 4,
  "nbformat_minor": 0,
  "metadata": {
    "colab": {
      "name": "Sesion4_curso_python.ipynb",
      "provenance": [],
      "authorship_tag": "ABX9TyOoxFzf/Adw66tLbkgbGCmw",
      "include_colab_link": true
    },
    "kernelspec": {
      "name": "python3",
      "display_name": "Python 3"
    }
  },
  "cells": [
    {
      "cell_type": "markdown",
      "metadata": {
        "id": "view-in-github",
        "colab_type": "text"
      },
      "source": [
        "<a href=\"https://colab.research.google.com/github/AlexPGonzalezR/course_python/blob/main/Sesion4_curso_python.ipynb\" target=\"_parent\"><img src=\"https://colab.research.google.com/assets/colab-badge.svg\" alt=\"Open In Colab\"/></a>"
      ]
    },
    {
      "cell_type": "code",
      "metadata": {
        "id": "P9eEy6wKlNrB"
      },
      "source": [
        ""
      ],
      "execution_count": null,
      "outputs": []
    },
    {
      "cell_type": "code",
      "metadata": {
        "colab": {
          "base_uri": "https://localhost:8080/",
          "height": 35
        },
        "id": "umtgvSafS2Vs",
        "outputId": "bc4e56a1-58d3-4076-c142-5696b0b46050"
      },
      "source": [
        "lista = [\"uno \", \"dos \", \"tres\"]\n",
        "cad = \"\"\n",
        "for ele in lista:\n",
        "    cad += ele\n",
        "cad"
      ],
      "execution_count": null,
      "outputs": [
        {
          "output_type": "execute_result",
          "data": {
            "application/vnd.google.colaboratory.intrinsic+json": {
              "type": "string"
            },
            "text/plain": [
              "'uno dos tres'"
            ]
          },
          "metadata": {
            "tags": []
          },
          "execution_count": 2
        }
      ]
    },
    {
      "cell_type": "code",
      "metadata": {
        "colab": {
          "base_uri": "https://localhost:8080/"
        },
        "id": "fnNEQuj0YrSa",
        "outputId": "182e363f-4532-422c-d4e6-4ba83f119d86"
      },
      "source": [
        "x = 0\n",
        "y = 3\n",
        "while x < y:\n",
        "    print(x)\n",
        "    x += 1"
      ],
      "execution_count": null,
      "outputs": [
        {
          "output_type": "stream",
          "text": [
            "0\n",
            "1\n",
            "2\n"
          ],
          "name": "stdout"
        }
      ]
    },
    {
      "cell_type": "code",
      "metadata": {
        "colab": {
          "base_uri": "https://localhost:8080/"
        },
        "id": "5f7q2o3uc0mS",
        "outputId": "e2e7c658-68e8-458e-e6f9-4a99a39280ba"
      },
      "source": [
        "x = 0\n",
        "y = 3\n",
        "while x < y:\n",
        "    print (x)\n",
        "    x+=1\n",
        "    if x == 2:\n",
        "      break\n",
        "    else:\n",
        "      print (\"x es igual a 2\")"
      ],
      "execution_count": null,
      "outputs": [
        {
          "output_type": "stream",
          "text": [
            "0\n",
            "x es igual a 2\n",
            "1\n"
          ],
          "name": "stdout"
        }
      ]
    },
    {
      "cell_type": "code",
      "metadata": {
        "colab": {
          "base_uri": "https://localhost:8080/"
        },
        "id": "wXORyoO7g1-a",
        "outputId": "14eba78d-1f0a-4e4a-92ff-e6fa04113302"
      },
      "source": [
        "def funcion_mensaje():\n",
        "  print(\"Mi primera función\")\n",
        "  print(\"Estoy aprendiendo\")\n",
        "funcion_mensaje()"
      ],
      "execution_count": null,
      "outputs": [
        {
          "output_type": "stream",
          "text": [
            "Mi primera función\n",
            "Estoy aprendiendo\n"
          ],
          "name": "stdout"
        }
      ]
    },
    {
      "cell_type": "code",
      "metadata": {
        "colab": {
          "base_uri": "https://localhost:8080/"
        },
        "id": "fXsHrd_rkOtd",
        "outputId": "783b6a99-68e4-4e36-cda0-6e2ed37c88f3"
      },
      "source": [
        "def funcion_mensaje(nombre_cliente):\n",
        "  print(\"Mi primera función\")\n",
        "  print(\"Saludando al cliente:\",nombre_cliente)\n",
        "cliente1=\"Juan Salinas\"\n",
        "funcion_mensaje(cliente1)\n",
        "cliente2=\"Alex Gonzalez\"\n",
        "funcion_mensaje(cliente2)\n"
      ],
      "execution_count": null,
      "outputs": [
        {
          "output_type": "stream",
          "text": [
            "Mi primera función\n",
            "Saludando al cliente: Juan Salinas\n",
            "Mi primera función\n",
            "Saludando al cliente: Alex Gonzalez\n"
          ],
          "name": "stdout"
        }
      ]
    },
    {
      "cell_type": "code",
      "metadata": {
        "colab": {
          "base_uri": "https://localhost:8080/"
        },
        "id": "evlQoRT-mGSQ",
        "outputId": "2993c537-7ff0-45a6-8eed-f647e7dc351e"
      },
      "source": [
        "def funcion_mensaje(nombre_cliente):\n",
        "  print(\"Mi primera función\")\n",
        "  print(\"Saludando al cliente:\",nombre_cliente)\n",
        "\n",
        "lista_nombres=[\"Juan Salinas\", \"Celeste Naranjo\", \"Cullary Perez\", \"Igor Strauss\"]\n",
        "edad=[28, 33, 23, 25]\n",
        "Picture={\"nombres_clientes\":lista_nombres, \"edad\":edad}\n",
        "print(Picture)\n",
        "\n",
        "for nombre in Picture[\"nombres_clientes\"]:\n",
        "  funcion_mensaje(nombre)\n",
        "\n",
        "for nombre in Picture[\"edad\"]:\n",
        "  funcion_mensaje(nombre)"
      ],
      "execution_count": null,
      "outputs": [
        {
          "output_type": "stream",
          "text": [
            "{'nombres_clientes': ['Juan Salinas', 'Celeste Naranjo', 'Cullary Perez', 'Igor Strauss'], 'edad': [28, 33, 23, 25]}\n",
            "Mi primera función\n",
            "Saludando al cliente: Juan Salinas\n",
            "Mi primera función\n",
            "Saludando al cliente: Celeste Naranjo\n",
            "Mi primera función\n",
            "Saludando al cliente: Cullary Perez\n",
            "Mi primera función\n",
            "Saludando al cliente: Igor Strauss\n",
            "Mi primera función\n",
            "Saludando al cliente: 28\n",
            "Mi primera función\n",
            "Saludando al cliente: 33\n",
            "Mi primera función\n",
            "Saludando al cliente: 23\n",
            "Mi primera función\n",
            "Saludando al cliente: 25\n"
          ],
          "name": "stdout"
        }
      ]
    },
    {
      "cell_type": "code",
      "metadata": {
        "id": "yv4Kcz_GlRL0",
        "outputId": "a0f12952-804d-4757-8c3d-501dcfc7b3b0",
        "colab": {
          "base_uri": "https://localhost:8080/"
        }
      },
      "source": [
        "def resta(a, b):\n",
        "  return a - b\n",
        "\n",
        "resta(30, 20)"
      ],
      "execution_count": 1,
      "outputs": [
        {
          "output_type": "execute_result",
          "data": {
            "text/plain": [
              "10"
            ]
          },
          "metadata": {
            "tags": []
          },
          "execution_count": 1
        }
      ]
    },
    {
      "cell_type": "code",
      "metadata": {
        "id": "iG8INT7SmW9w"
      },
      "source": [
        ""
      ],
      "execution_count": null,
      "outputs": []
    },
    {
      "cell_type": "code",
      "metadata": {
        "id": "iJFzBMhol5k9",
        "outputId": "f50d9a98-ca75-459e-9397-a28d1004b7c1",
        "colab": {
          "base_uri": "https://localhost:8080/",
          "height": 35
        }
      },
      "source": [
        "def resta(a, b):\n",
        "  resta=a-b #Integer\n",
        "  mensaje=\"La resta es: \"+ str(resta)\n",
        "  return mensaje\n",
        "resta(5,3)"
      ],
      "execution_count": 5,
      "outputs": [
        {
          "output_type": "execute_result",
          "data": {
            "application/vnd.google.colaboratory.intrinsic+json": {
              "type": "string"
            },
            "text/plain": [
              "'La resta es: 2'"
            ]
          },
          "metadata": {
            "tags": []
          },
          "execution_count": 5
        }
      ]
    },
    {
      "cell_type": "code",
      "metadata": {
        "id": "WjzPXfmanoH2",
        "outputId": "db9d205b-65f5-4390-f46b-8122a4a4d477",
        "colab": {
          "base_uri": "https://localhost:8080/"
        }
      },
      "source": [
        "def resta(a, b):\n",
        "  resta=a-b #Integer\n",
        "  mensaje=\"La resta es: \"+ str(resta)\n",
        "  return resta\n",
        "\n",
        "variable_resta=resta(5,6)\n",
        "print(variable_resta)\n",
        "valor_esperado=variable_resta+10\n",
        "print(valor_esperado)"
      ],
      "execution_count": 9,
      "outputs": [
        {
          "output_type": "stream",
          "text": [
            "-1\n",
            "9\n"
          ],
          "name": "stdout"
        }
      ]
    },
    {
      "cell_type": "code",
      "metadata": {
        "id": "_yhCHfMXq0XP",
        "outputId": "7915a49e-5f14-4d05-f1aa-69daf7b6a95e",
        "colab": {
          "base_uri": "https://localhost:8080/"
        }
      },
      "source": [
        "class Persona(object):\n",
        "    \"\"\"Clase que representa una Persona\"\"\"\n",
        "\n",
        "    def __init__(self, cedula, nombre, apellido, sexo):\n",
        "        \"\"\"Constructor de clase Persona\"\"\"\n",
        "        self.cedula = cedula\n",
        "        self.nombre = nombre\n",
        "        self.apellido = apellido\n",
        "        self.sexo = sexo\n",
        "\n",
        "\n",
        "    def __str__(self):\n",
        "        \"\"\"Devuelve una cadena representativa de Persona\"\"\"\n",
        "        return \"%s: %s, %s %s, %s.\" % (\n",
        "            self.__doc__[25:34], str(self.cedula), self.nombre, \n",
        "            self.apellido, self.getGenero(self.sexo))\n",
        "\n",
        "    def hablar(self, mensaje):\n",
        "        \"\"\"Mostrar mensaje de saludo de Persona\"\"\"\n",
        "        return mensaje\n",
        "\n",
        "    def getGenero(self):\n",
        "        \"\"\"Mostrar el genero de la Persona\"\"\"\n",
        "        genero = ('Masculino','Femenino')\n",
        "        if self.sexo == \"M\":\n",
        "            return genero[0]\n",
        "        elif self.sexo == \"F\":\n",
        "            return genero[1]\n",
        "        else:\n",
        "            return \"Desconocido\"\n",
        "\n",
        "variable_persona = Persona(71752728,\"Juan\",\"Salinas\",\"M\")            \n",
        "print(variable_persona.getGenero())"
      ],
      "execution_count": 10,
      "outputs": [
        {
          "output_type": "stream",
          "text": [
            "Masculino\n"
          ],
          "name": "stdout"
        }
      ]
    },
    {
      "cell_type": "code",
      "metadata": {
        "id": "NzNTMF2v9lCT",
        "outputId": "a474e7fd-ea03-43cf-a297-870b1b61f549",
        "colab": {
          "base_uri": "https://localhost:8080/"
        }
      },
      "source": [
        "def funcion():\n",
        " return \"Hola Mundo\"\n",
        "frase = funcion() \n",
        "print (frase)"
      ],
      "execution_count": 13,
      "outputs": [
        {
          "output_type": "stream",
          "text": [
            "Hola Mundo\n"
          ],
          "name": "stdout"
        }
      ]
    },
    {
      "cell_type": "code",
      "metadata": {
        "id": "Dib-MypnB1-X",
        "outputId": "8d15cd39-33ba-433a-c6b3-4f8397c62ecb",
        "colab": {
          "base_uri": "https://localhost:8080/"
        }
      },
      "source": [
        "def saludar(nombre, mensaje='Hola'):#Parametros por omision\n",
        " print (mensaje, nombre)\n",
        "saludar('Pepe Grillo') # Imprime: Hola Pepe Grillo"
      ],
      "execution_count": 15,
      "outputs": [
        {
          "output_type": "stream",
          "text": [
            "Hola Pepe Grillo\n"
          ],
          "name": "stdout"
        }
      ]
    },
    {
      "cell_type": "code",
      "metadata": {
        "id": "_7eLc1uLKNT_",
        "outputId": "c2bf49c9-1f1b-4b55-fa70-932aea8c8964",
        "colab": {
          "base_uri": "https://localhost:8080/"
        }
      },
      "source": [
        "def saludar(nombre, mensaje='Hola'):#Keywords como parámetros\n",
        " print (mensaje, nombre) \n",
        "saludar(mensaje=\"Buen día\", nombre=\"Juancho\")"
      ],
      "execution_count": 19,
      "outputs": [
        {
          "output_type": "stream",
          "text": [
            "Buen día Juancho\n"
          ],
          "name": "stdout"
        }
      ]
    },
    {
      "cell_type": "code",
      "metadata": {
        "id": "YtqCWgJPLCG3",
        "outputId": "2c55eda0-8614-4e56-b852-e82be584d418",
        "colab": {
          "base_uri": "https://localhost:8080/"
        }
      },
      "source": [
        "def recorrer_parametros_arbitrarios(parametro_fijo, *arbitrarios):\n",
        " print (parametro_fijo)\n",
        " # Los parámetros arbitrarios se corren como tuplas\n",
        " for argumento in arbitrarios:\n",
        "  print (argumento)\n",
        "recorrer_parametros_arbitrarios('Fixed', 'arbitrario 1', 'arbitrario 2',\n",
        " 'arbitrario 3')"
      ],
      "execution_count": 23,
      "outputs": [
        {
          "output_type": "stream",
          "text": [
            "Fixed\n",
            "arbitrario 1\n",
            "arbitrario 2\n",
            "arbitrario 3\n"
          ],
          "name": "stdout"
        }
      ]
    }
  ]
}