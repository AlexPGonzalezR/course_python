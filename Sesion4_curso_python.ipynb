{
  "nbformat": 4,
  "nbformat_minor": 0,
  "metadata": {
    "colab": {
      "name": "Sesion4_curso_python.ipynb",
      "provenance": [],
      "authorship_tag": "ABX9TyPEjxkzy7oHyi7gl8VpuFnN",
      "include_colab_link": true
    },
    "kernelspec": {
      "name": "python3",
      "display_name": "Python 3"
    }
  },
  "cells": [
    {
      "cell_type": "markdown",
      "metadata": {
        "id": "view-in-github",
        "colab_type": "text"
      },
      "source": [
        "<a href=\"https://colab.research.google.com/github/AlexPGonzalezR/course_python/blob/main/Sesion4_curso_python.ipynb\" target=\"_parent\"><img src=\"https://colab.research.google.com/assets/colab-badge.svg\" alt=\"Open In Colab\"/></a>"
      ]
    },
    {
      "cell_type": "code",
      "metadata": {
        "colab": {
          "base_uri": "https://localhost:8080/",
          "height": 35
        },
        "id": "umtgvSafS2Vs",
        "outputId": "bc4e56a1-58d3-4076-c142-5696b0b46050"
      },
      "source": [
        "lista = [\"uno \", \"dos \", \"tres\"]\n",
        "cad = \"\"\n",
        "for ele in lista:\n",
        "    cad += ele\n",
        "cad"
      ],
      "execution_count": 2,
      "outputs": [
        {
          "output_type": "execute_result",
          "data": {
            "application/vnd.google.colaboratory.intrinsic+json": {
              "type": "string"
            },
            "text/plain": [
              "'uno dos tres'"
            ]
          },
          "metadata": {
            "tags": []
          },
          "execution_count": 2
        }
      ]
    },
    {
      "cell_type": "code",
      "metadata": {
        "colab": {
          "base_uri": "https://localhost:8080/"
        },
        "id": "fnNEQuj0YrSa",
        "outputId": "182e363f-4532-422c-d4e6-4ba83f119d86"
      },
      "source": [
        "x = 0\n",
        "y = 3\n",
        "while x < y:\n",
        "    print(x)\n",
        "    x += 1"
      ],
      "execution_count": 3,
      "outputs": [
        {
          "output_type": "stream",
          "text": [
            "0\n",
            "1\n",
            "2\n"
          ],
          "name": "stdout"
        }
      ]
    },
    {
      "cell_type": "code",
      "metadata": {
        "colab": {
          "base_uri": "https://localhost:8080/"
        },
        "id": "5f7q2o3uc0mS",
        "outputId": "e2e7c658-68e8-458e-e6f9-4a99a39280ba"
      },
      "source": [
        "x = 0\n",
        "y = 3\n",
        "while x < y:\n",
        "    print (x)\n",
        "    x+=1\n",
        "    if x == 2:\n",
        "      break\n",
        "    else:\n",
        "      print (\"x es igual a 2\")"
      ],
      "execution_count": 25,
      "outputs": [
        {
          "output_type": "stream",
          "text": [
            "0\n",
            "x es igual a 2\n",
            "1\n"
          ],
          "name": "stdout"
        }
      ]
    },
    {
      "cell_type": "code",
      "metadata": {
        "colab": {
          "base_uri": "https://localhost:8080/"
        },
        "id": "wXORyoO7g1-a",
        "outputId": "14eba78d-1f0a-4e4a-92ff-e6fa04113302"
      },
      "source": [
        "def funcion_mensaje():\n",
        "  print(\"Mi primera función\")\n",
        "  print(\"Estoy aprendiendo\")\n",
        "funcion_mensaje()"
      ],
      "execution_count": 27,
      "outputs": [
        {
          "output_type": "stream",
          "text": [
            "Mi primera función\n",
            "Estoy aprendiendo\n"
          ],
          "name": "stdout"
        }
      ]
    },
    {
      "cell_type": "code",
      "metadata": {
        "colab": {
          "base_uri": "https://localhost:8080/"
        },
        "id": "fXsHrd_rkOtd",
        "outputId": "783b6a99-68e4-4e36-cda0-6e2ed37c88f3"
      },
      "source": [
        "def funcion_mensaje(nombre_cliente):\n",
        "  print(\"Mi primera función\")\n",
        "  print(\"Saludando al cliente:\",nombre_cliente)\n",
        "cliente1=\"Juan Salinas\"\n",
        "funcion_mensaje(cliente1)\n",
        "cliente2=\"Alex Gonzalez\"\n",
        "funcion_mensaje(cliente2)\n"
      ],
      "execution_count": 29,
      "outputs": [
        {
          "output_type": "stream",
          "text": [
            "Mi primera función\n",
            "Saludando al cliente: Juan Salinas\n",
            "Mi primera función\n",
            "Saludando al cliente: Alex Gonzalez\n"
          ],
          "name": "stdout"
        }
      ]
    },
    {
      "cell_type": "code",
      "metadata": {
        "colab": {
          "base_uri": "https://localhost:8080/"
        },
        "id": "evlQoRT-mGSQ",
        "outputId": "2993c537-7ff0-45a6-8eed-f647e7dc351e"
      },
      "source": [
        "def funcion_mensaje(nombre_cliente):\n",
        "  print(\"Mi primera función\")\n",
        "  print(\"Saludando al cliente:\",nombre_cliente)\n",
        "\n",
        "lista_nombres=[\"Juan Salinas\", \"Celeste Naranjo\", \"Cullary Perez\", \"Igor Strauss\"]\n",
        "edad=[28, 33, 23, 25]\n",
        "Picture={\"nombres_clientes\":lista_nombres, \"edad\":edad}\n",
        "print(Picture)\n",
        "\n",
        "for nombre in Picture[\"nombres_clientes\"]:\n",
        "  funcion_mensaje(nombre)\n",
        "\n",
        "for nombre in Picture[\"edad\"]:\n",
        "  funcion_mensaje(nombre)"
      ],
      "execution_count": 36,
      "outputs": [
        {
          "output_type": "stream",
          "text": [
            "{'nombres_clientes': ['Juan Salinas', 'Celeste Naranjo', 'Cullary Perez', 'Igor Strauss'], 'edad': [28, 33, 23, 25]}\n",
            "Mi primera función\n",
            "Saludando al cliente: Juan Salinas\n",
            "Mi primera función\n",
            "Saludando al cliente: Celeste Naranjo\n",
            "Mi primera función\n",
            "Saludando al cliente: Cullary Perez\n",
            "Mi primera función\n",
            "Saludando al cliente: Igor Strauss\n",
            "Mi primera función\n",
            "Saludando al cliente: 28\n",
            "Mi primera función\n",
            "Saludando al cliente: 33\n",
            "Mi primera función\n",
            "Saludando al cliente: 23\n",
            "Mi primera función\n",
            "Saludando al cliente: 25\n"
          ],
          "name": "stdout"
        }
      ]
    }
  ]
}