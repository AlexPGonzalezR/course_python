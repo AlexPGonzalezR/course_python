{
  "nbformat": 4,
  "nbformat_minor": 0,
  "metadata": {
    "colab": {
      "name": "Ejerc_sesion5_cursoUntitled2.ipynb",
      "provenance": [],
      "authorship_tag": "ABX9TyM/P6FiHr5OjnKp1WZT3CXo",
      "include_colab_link": true
    },
    "kernelspec": {
      "name": "python3",
      "display_name": "Python 3"
    }
  },
  "cells": [
    {
      "cell_type": "markdown",
      "metadata": {
        "id": "view-in-github",
        "colab_type": "text"
      },
      "source": [
        "<a href=\"https://colab.research.google.com/github/AlexPGonzalezR/course_python/blob/main/Ejerc_sesion5_cursoUntitled2.ipynb\" target=\"_parent\"><img src=\"https://colab.research.google.com/assets/colab-badge.svg\" alt=\"Open In Colab\"/></a>"
      ]
    },
    {
      "cell_type": "code",
      "metadata": {
        "id": "_EYCmn1vgBGh"
      },
      "source": [
        "import datetime as dt"
      ],
      "execution_count": 16,
      "outputs": []
    },
    {
      "cell_type": "code",
      "metadata": {
        "colab": {
          "base_uri": "https://localhost:8080/"
        },
        "id": "hyJajHGcgDlt",
        "outputId": "ee83855f-2f87-4f52-8966-a94c44bec1de"
      },
      "source": [
        "print(dt.time(1), \"1 Hora\")\n",
        "\n",
        "print(dt.time(2, 30), \"2 Horas y 30 minutos\")\n",
        "\n",
        "print(dt.time(3, 45, 30), \"3 Horas, 45 minutos y 30 segundos\")"
      ],
      "execution_count": 17,
      "outputs": [
        {
          "output_type": "stream",
          "text": [
            "01:00:00 1 Hora\n",
            "02:30:00 2 Horas y 30 minutos\n",
            "03:45:30 3 Horas, 45 minutos y 30 segundos\n"
          ],
          "name": "stdout"
        }
      ]
    },
    {
      "cell_type": "code",
      "metadata": {
        "colab": {
          "base_uri": "https://localhost:8080/"
        },
        "id": "DpgTGrxmgOAi",
        "outputId": "3199b7bf-58a6-4e57-cc48-dc86084fc719"
      },
      "source": [
        "now = dt.datetime.now()\n",
        "print(now)"
      ],
      "execution_count": 18,
      "outputs": [
        {
          "output_type": "stream",
          "text": [
            "2020-11-22 15:10:00.417444\n"
          ],
          "name": "stdout"
        }
      ]
    },
    {
      "cell_type": "code",
      "metadata": {
        "colab": {
          "base_uri": "https://localhost:8080/"
        },
        "id": "46ZZc0NTgUcQ",
        "outputId": "88cc1c3c-1bab-4c91-805c-fe3f8ef36c8d"
      },
      "source": [
        "print(\"Fecha\\n\")\n",
        "print(\"El año actual es:\", now.year)\n",
        "print(\"El mes actual es:\", now.month)\n",
        "print(\"El día actual es:\", now.day)\n",
        "\n",
        "print(\"\\nTiempo\\n\")\n",
        "print(\"La hora actual es:   \", now.hour)\n",
        "print(\"El minuto actual es: \", now.minute)\n",
        "print(\"El segundo actual es:\", now.second)"
      ],
      "execution_count": 19,
      "outputs": [
        {
          "output_type": "stream",
          "text": [
            "Fecha\n",
            "\n",
            "El año actual es: 2020\n",
            "El mes actual es: 11\n",
            "El día actual es: 22\n",
            "\n",
            "Tiempo\n",
            "\n",
            "La hora actual es:    15\n",
            "El minuto actual es:  10\n",
            "El segundo actual es: 0\n"
          ],
          "name": "stdout"
        }
      ]
    },
    {
      "cell_type": "code",
      "metadata": {
        "colab": {
          "base_uri": "https://localhost:8080/"
        },
        "id": "2lJlxIc4guRc",
        "outputId": "2b371229-4718-4681-82a6-dae1375ca66e"
      },
      "source": [
        "navidad_date = dt.datetime(2020, 12, 25)\n",
        "print(navidad_date)"
      ],
      "execution_count": 20,
      "outputs": [
        {
          "output_type": "stream",
          "text": [
            "2020-12-25 00:00:00\n"
          ],
          "name": "stdout"
        }
      ]
    },
    {
      "cell_type": "code",
      "metadata": {
        "colab": {
          "base_uri": "https://localhost:8080/"
        },
        "id": "jlc5zgfrgzqv",
        "outputId": "c6d12ff6-73fc-48d2-e8ba-d7d67d1ff334"
      },
      "source": [
        "diff = navidad_date - now\n",
        "print(diff)"
      ],
      "execution_count": 21,
      "outputs": [
        {
          "output_type": "stream",
          "text": [
            "32 days, 8:49:59.582556\n"
          ],
          "name": "stdout"
        }
      ]
    },
    {
      "cell_type": "code",
      "metadata": {
        "colab": {
          "base_uri": "https://localhost:8080/"
        },
        "id": "WbtXrevUhAy3",
        "outputId": "4ad4bca7-13ed-466d-d4df-7208ef4f39ed"
      },
      "source": [
        "#Podemos crear un objeto timedelta también y añadirlo a un datetime:\n",
        "inc = dt.timedelta(days=45, hours=7)\n",
        "print(now)\n",
        "print(inc)\n",
        "print(now + inc)"
      ],
      "execution_count": 23,
      "outputs": [
        {
          "output_type": "stream",
          "text": [
            "2020-11-22 15:10:00.417444\n",
            "45 days, 7:00:00\n",
            "2021-01-06 22:10:00.417444\n"
          ],
          "name": "stdout"
        }
      ]
    },
    {
      "cell_type": "code",
      "metadata": {
        "id": "KE0Yqz5qhQvk"
      },
      "source": [
        ""
      ],
      "execution_count": null,
      "outputs": []
    },
    {
      "cell_type": "code",
      "metadata": {
        "colab": {
          "base_uri": "https://localhost:8080/"
        },
        "id": "OVUsACkHadcT",
        "outputId": "856ec429-14c7-44c6-91b1-d84fd63f8f45"
      },
      "source": [
        "s1 = 'fundamentos de programación en Python.'\n",
        "'de' in s1\n",
        "print(s1)\n",
        "busqueda=\"EN\"\n",
        "busqueda_en_minuscula=busqueda.upper()\n",
        "print(busqueda_en_minuscula)\n",
        "resultado_busqueda=busqueda_en_minuscula in s1.upper()\n",
        "print(resultado_busqueda)\n",
        "if resultado_busqueda:\n",
        "  print(\"La palabra \", busqueda, \" si existe en el parrafo\")\n",
        "else:\n",
        "  print(\"No se encontró la palabra \", busqueda)"
      ],
      "execution_count": 13,
      "outputs": [
        {
          "output_type": "stream",
          "text": [
            "fundamentos de programación en Python.\n",
            "EN\n",
            "True\n",
            "La palabra  EN  si existe en el parrafo\n"
          ],
          "name": "stdout"
        }
      ]
    },
    {
      "cell_type": "code",
      "metadata": {
        "colab": {
          "base_uri": "https://localhost:8080/"
        },
        "id": "ZKYQa8uDdzN8",
        "outputId": "81f25dcb-5366-452a-a73c-b92a05cd9e4d"
      },
      "source": [
        "len(s1)"
      ],
      "execution_count": 14,
      "outputs": [
        {
          "output_type": "execute_result",
          "data": {
            "text/plain": [
              "38"
            ]
          },
          "metadata": {
            "tags": []
          },
          "execution_count": 14
        }
      ]
    },
    {
      "cell_type": "code",
      "metadata": {
        "colab": {
          "base_uri": "https://localhost:8080/"
        },
        "id": "h0-kbfEHeEIU",
        "outputId": "eba6a50c-eae9-4ad6-b624-7f2f8fc486b4"
      },
      "source": [
        "#Acceso (Indexing - Slicing)\n",
        "print(s1[0])\n",
        "print(s1[-1])\n",
        "print(s1[4:8])\n",
        "print(s1[::-1])"
      ],
      "execution_count": 15,
      "outputs": [
        {
          "output_type": "stream",
          "text": [
            "f\n",
            ".\n",
            "amen\n",
            ".nohtyP ne nóicamargorp ed sotnemadnuf\n"
          ],
          "name": "stdout"
        }
      ]
    },
    {
      "cell_type": "code",
      "metadata": {
        "colab": {
          "base_uri": "https://localhost:8080/",
          "height": 212
        },
        "id": "g5aVD7mKhzav",
        "outputId": "24a12b8e-31cb-4ef2-b001-c896e769724f"
      },
      "source": [
        "str_date = \"18-07-1994\"\n",
        "str_date = dt.datetime.strptime(str_date,\"%d-%m-%Y\")\n",
        "print(str_date)\n"
      ],
      "execution_count": 26,
      "outputs": [
        {
          "output_type": "stream",
          "text": [
            "1994-07-18 00:00:00\n"
          ],
          "name": "stdout"
        },
        {
          "output_type": "error",
          "ename": "TypeError",
          "evalue": "ignored",
          "traceback": [
            "\u001b[0;31m---------------------------------------------------------------------------\u001b[0m",
            "\u001b[0;31mTypeError\u001b[0m                                 Traceback (most recent call last)",
            "\u001b[0;32m<ipython-input-26-37b9b6f02de5>\u001b[0m in \u001b[0;36m<module>\u001b[0;34m()\u001b[0m\n\u001b[1;32m      2\u001b[0m \u001b[0mstr_date\u001b[0m \u001b[0;34m=\u001b[0m \u001b[0mdt\u001b[0m\u001b[0;34m.\u001b[0m\u001b[0mdatetime\u001b[0m\u001b[0;34m.\u001b[0m\u001b[0mstrptime\u001b[0m\u001b[0;34m(\u001b[0m\u001b[0mstr_date\u001b[0m\u001b[0;34m,\u001b[0m\u001b[0;34m\"%d-%m-%Y\"\u001b[0m\u001b[0;34m)\u001b[0m\u001b[0;34m\u001b[0m\u001b[0;34m\u001b[0m\u001b[0m\n\u001b[1;32m      3\u001b[0m \u001b[0mprint\u001b[0m\u001b[0;34m(\u001b[0m\u001b[0mstr_date\u001b[0m\u001b[0;34m)\u001b[0m\u001b[0;34m\u001b[0m\u001b[0;34m\u001b[0m\u001b[0m\n\u001b[0;32m----> 4\u001b[0;31m \u001b[0mdia\u001b[0m\u001b[0;34m=\u001b[0m\u001b[0mstr_date\u001b[0m\u001b[0;34m[\u001b[0m\u001b[0;36m3\u001b[0m\u001b[0;34m:\u001b[0m\u001b[0;36m5\u001b[0m\u001b[0;34m]\u001b[0m\u001b[0;34m\u001b[0m\u001b[0;34m\u001b[0m\u001b[0m\n\u001b[0m",
            "\u001b[0;31mTypeError\u001b[0m: 'datetime.datetime' object is not subscriptable"
          ]
        }
      ]
    },
    {
      "cell_type": "code",
      "metadata": {
        "colab": {
          "base_uri": "https://localhost:8080/"
        },
        "id": "WN8hwwyaiXTD",
        "outputId": "76da889b-db54-4068-f6c2-5353a091ba81"
      },
      "source": [
        "#        m   d  año\n",
        "st_date=\"22-11-2020\"\n",
        "dia=st_date[0:2]\n",
        "mes=st_date[3:5]\n",
        "año=st_date[6:10]\n",
        "print(\"dia:\",dia)\n",
        "print(\"mes:\",mes)\n",
        "print(\"año:\",año)"
      ],
      "execution_count": 33,
      "outputs": [
        {
          "output_type": "stream",
          "text": [
            "dia: 22\n",
            "mes: 11\n",
            "año: 2020\n"
          ],
          "name": "stdout"
        }
      ]
    },
    {
      "cell_type": "code",
      "metadata": {
        "colab": {
          "base_uri": "https://localhost:8080/"
        },
        "id": "mRqLiKdxkz8C",
        "outputId": "bb942d99-88b8-4e83-d7c9-ebce84f581ab"
      },
      "source": [
        "print('Primera línea\\nSegunda línea')"
      ],
      "execution_count": 34,
      "outputs": [
        {
          "output_type": "stream",
          "text": [
            "Primera línea\n",
            "Segunda línea\n"
          ],
          "name": "stdout"
        }
      ]
    },
    {
      "cell_type": "code",
      "metadata": {
        "colab": {
          "base_uri": "https://localhost:8080/"
        },
        "id": "jrrkPKGPlDhz",
        "outputId": "9dea3d6c-6f0d-4d99-c1e8-dc3f8aa487f2"
      },
      "source": [
        "#Insertar un tabulador\n",
        "print('Primera línea\\tSegunda línea')"
      ],
      "execution_count": 35,
      "outputs": [
        {
          "output_type": "stream",
          "text": [
            "Primera línea\tSegunda línea\n"
          ],
          "name": "stdout"
        }
      ]
    },
    {
      "cell_type": "code",
      "metadata": {
        "colab": {
          "base_uri": "https://localhost:8080/"
        },
        "id": "_mq1NgoXmGLt",
        "outputId": "3e661abb-0a26-4811-a181-d9a57c3662dd"
      },
      "source": [
        "#Funciones de desplazamiento\n",
        "\n",
        "print('String centrado:')\n",
        "print(s1.center(50))\n",
        "print(s1.center(50, '_'))\n",
        "\n",
        "print('\\n\\nAlineado a la izquierda:')\n",
        "print(s1.ljust(50))\n",
        "print(s1.ljust(50, '<'))\n",
        "\n",
        "print('\\n\\nAlineado a la derecha:')\n",
        "print(s1.rjust(50))\n",
        "print(s1.rjust(50, '>'))\n",
        "\n",
        "print('\\n\\nCompletar con 0')\n",
        "print('-123.45'.zfill(4))\n",
        "#print('-123.45'.zfill(12)"
      ],
      "execution_count": 37,
      "outputs": [
        {
          "output_type": "stream",
          "text": [
            "String centrado:\n",
            "      fundamentos de programación en Python.      \n",
            "______fundamentos de programación en Python.______\n",
            "\n",
            "\n",
            "Alineado a la izquierda:\n",
            "fundamentos de programación en Python.            \n",
            "fundamentos de programación en Python.<<<<<<<<<<<<\n",
            "\n",
            "\n",
            "Alineado a la derecha:\n",
            "            fundamentos de programación en Python.\n",
            ">>>>>>>>>>>>fundamentos de programación en Python.\n",
            "\n",
            "\n",
            "Completar con 0\n",
            "-123.45\n"
          ],
          "name": "stdout"
        }
      ]
    },
    {
      "cell_type": "code",
      "metadata": {
        "colab": {
          "base_uri": "https://localhost:8080/"
        },
        "id": "1SNRQrI9mniK",
        "outputId": "52468552-e4eb-4335-f887-96a5e6d1a06b"
      },
      "source": [
        "#Funciones de texto\n",
        "\n",
        "s1 = 'el motivo de mi RECLAMO es la demora en la entrega del producto que compré ONLINE, pésimo servicio.'\n",
        "\n",
        "print('Minúsculas:\\n', s1.lower())\n",
        "print('\\nMayúsculas:\\n', s1.upper())\n",
        "\n",
        "print('\\nPrimera letra en mayúscula:\\n', s1.capitalize())\n",
        "print('\\nPrimera letra de cada palabra en mayúscula:\\n', s1.title())\n",
        "\n",
        "print('\\nIntercambiar entre mayúsculas y minúsculas:\\n', s1.swapcase())"
      ],
      "execution_count": 38,
      "outputs": [
        {
          "output_type": "stream",
          "text": [
            "Minúsculas:\n",
            " el motivo de mi reclamo es la demora en la entrega del producto que compré online, pésimo servicio.\n",
            "\n",
            "Mayúsculas:\n",
            " EL MOTIVO DE MI RECLAMO ES LA DEMORA EN LA ENTREGA DEL PRODUCTO QUE COMPRÉ ONLINE, PÉSIMO SERVICIO.\n",
            "\n",
            "Primera letra en mayúscula:\n",
            " El motivo de mi reclamo es la demora en la entrega del producto que compré online, pésimo servicio.\n",
            "\n",
            "Primera letra de cada palabra en mayúscula:\n",
            " El Motivo De Mi Reclamo Es La Demora En La Entrega Del Producto Que Compré Online, Pésimo Servicio.\n",
            "\n",
            "Intercambiar entre mayúsculas y minúsculas:\n",
            " EL MOTIVO DE MI reclamo ES LA DEMORA EN LA ENTREGA DEL PRODUCTO QUE COMPRÉ online, PÉSIMO SERVICIO.\n"
          ],
          "name": "stdout"
        }
      ]
    },
    {
      "cell_type": "code",
      "metadata": {
        "colab": {
          "base_uri": "https://localhost:8080/"
        },
        "id": "B8Y59gWVn8Z1",
        "outputId": "94844887-0816-42ae-d049-3d4d4b2e2d9b"
      },
      "source": [
        "#Reemplazar, buscar y dividir.\n",
        "\n",
        "s = 'Python es un lenguaje de tipado dinamico.'\n",
        "\n",
        "lista_palabras = s.split()\n",
        "print(lista_palabras)"
      ],
      "execution_count": 39,
      "outputs": [
        {
          "output_type": "stream",
          "text": [
            "['Python', 'es', 'un', 'lenguaje', 'de', 'tipado', 'dinamico.']\n"
          ],
          "name": "stdout"
        }
      ]
    },
    {
      "cell_type": "code",
      "metadata": {
        "colab": {
          "base_uri": "https://localhost:8080/"
        },
        "id": "4Bxkg4BLoJnm",
        "outputId": "03169aaf-6cad-4909-b82f-dea3c1420f0f"
      },
      "source": [
        "#Función Zip\n",
        "paises = [\"China\", \"India\", \"Estados Unidos\", \"Indonesia\"]\n",
        "poblaciones = [1391, 1364, 327, 264]\n",
        "list(zip(paises, poblaciones))"
      ],
      "execution_count": 41,
      "outputs": [
        {
          "output_type": "execute_result",
          "data": {
            "text/plain": [
              "[('China', 1391), ('India', 1364), ('Estados Unidos', 327), ('Indonesia', 264)]"
            ]
          },
          "metadata": {
            "tags": []
          },
          "execution_count": 41
        }
      ]
    },
    {
      "cell_type": "code",
      "metadata": {
        "colab": {
          "base_uri": "https://localhost:8080/"
        },
        "id": "oLfw3AKtrFBW",
        "outputId": "8531b342-9e00-42fa-b0a2-489c0c0ce173"
      },
      "source": [
        "s = 'Python es un lenguaje de tipado dinamico.'\n",
        "s = s.replace('.', '')\n",
        "\n",
        "lista_palabras = s.split()\n",
        "print(lista_palabras)"
      ],
      "execution_count": 42,
      "outputs": [
        {
          "output_type": "stream",
          "text": [
            "['Python', 'es', 'un', 'lenguaje', 'de', 'tipado', 'dinamico']\n"
          ],
          "name": "stdout"
        }
      ]
    },
    {
      "cell_type": "markdown",
      "metadata": {
        "id": "Lno0H5lMvqA6"
      },
      "source": [
        "##Pandas"
      ]
    },
    {
      "cell_type": "code",
      "metadata": {
        "id": "vKNsBT-hvszH"
      },
      "source": [
        "import pandas as pd\n",
        "import numpy as np\n",
        "import matplotlib.pyplot as plt"
      ],
      "execution_count": 43,
      "outputs": []
    },
    {
      "cell_type": "code",
      "metadata": {
        "colab": {
          "base_uri": "https://localhost:8080/"
        },
        "id": "58ILM58lxHrC",
        "outputId": "1dad00d8-8543-4748-c124-5222985e0dcc"
      },
      "source": [
        "serie = pd.Series([1979, 1980, 1981, 1982])\n",
        "serie"
      ],
      "execution_count": 51,
      "outputs": [
        {
          "output_type": "execute_result",
          "data": {
            "text/plain": [
              "0    1979\n",
              "1    1980\n",
              "2    1981\n",
              "3    1982\n",
              "dtype: int64"
            ]
          },
          "metadata": {
            "tags": []
          },
          "execution_count": 51
        }
      ]
    },
    {
      "cell_type": "code",
      "metadata": {
        "colab": {
          "base_uri": "https://localhost:8080/"
        },
        "id": "kkxwnetazl-o",
        "outputId": "bf574429-62d6-417d-ebcf-8da6ec728bf0"
      },
      "source": [
        "serie.values"
      ],
      "execution_count": 52,
      "outputs": [
        {
          "output_type": "execute_result",
          "data": {
            "text/plain": [
              "array([1979, 1980, 1981, 1982])"
            ]
          },
          "metadata": {
            "tags": []
          },
          "execution_count": 52
        }
      ]
    },
    {
      "cell_type": "code",
      "metadata": {
        "colab": {
          "base_uri": "https://localhost:8080/"
        },
        "id": "ptacV1xVz8S9",
        "outputId": "c1cbc143-1374-459a-c9a4-ceee0fe53521"
      },
      "source": [
        "serie.index"
      ],
      "execution_count": 53,
      "outputs": [
        {
          "output_type": "execute_result",
          "data": {
            "text/plain": [
              "RangeIndex(start=0, stop=4, step=1)"
            ]
          },
          "metadata": {
            "tags": []
          },
          "execution_count": 53
        }
      ]
    },
    {
      "cell_type": "code",
      "metadata": {
        "colab": {
          "base_uri": "https://localhost:8080/"
        },
        "id": "kxz_XZaI0Ftj",
        "outputId": "82ea4267-ae76-4a59-f8ec-b4fc34643ce2"
      },
      "source": [
        "serie = pd.Series(data=[1979, 1980, 1981, 1982, 1983],\n",
        "                  index=['carolina', 'martha', 'nicky', 'theresa', 'nicky'])\n",
        "serie"
      ],
      "execution_count": 48,
      "outputs": [
        {
          "output_type": "execute_result",
          "data": {
            "text/plain": [
              "carolina    1979\n",
              "martha      1980\n",
              "nicky       1981\n",
              "theresa     1982\n",
              "nicky       1983\n",
              "dtype: int64"
            ]
          },
          "metadata": {
            "tags": []
          },
          "execution_count": 48
        }
      ]
    },
    {
      "cell_type": "code",
      "metadata": {
        "colab": {
          "base_uri": "https://localhost:8080/"
        },
        "id": "DRWZNgvW056l",
        "outputId": "4dc41539-106c-4740-f6e8-0fab657b67fd"
      },
      "source": [
        "serie_pokemon = pd.read_csv('pokemon.csv', squeeze=True, usecols=['Name'])\n",
        "serie_pokemon"
      ],
      "execution_count": 49,
      "outputs": [
        {
          "output_type": "execute_result",
          "data": {
            "text/plain": [
              "0           Bulbasaur\n",
              "1             Ivysaur\n",
              "2            Venusaur\n",
              "3       Mega Venusaur\n",
              "4          Charmander\n",
              "            ...      \n",
              "795           Diancie\n",
              "796      Mega Diancie\n",
              "797    Hoopa Confined\n",
              "798     Hoopa Unbound\n",
              "799         Volcanion\n",
              "Name: Name, Length: 800, dtype: object"
            ]
          },
          "metadata": {
            "tags": []
          },
          "execution_count": 49
        }
      ]
    },
    {
      "cell_type": "code",
      "metadata": {
        "id": "e_e-y_YyvfyD"
      },
      "source": [
        "\n"
      ],
      "execution_count": null,
      "outputs": []
    },
    {
      "cell_type": "code",
      "metadata": {
        "id": "FO2wZPIWvmto"
      },
      "source": [
        ""
      ],
      "execution_count": null,
      "outputs": []
    },
    {
      "cell_type": "code",
      "metadata": {
        "id": "G4glVmfmvjH6"
      },
      "source": [
        ""
      ],
      "execution_count": null,
      "outputs": []
    }
  ]
}