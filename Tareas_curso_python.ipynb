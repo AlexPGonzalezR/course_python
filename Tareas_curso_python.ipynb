{
  "nbformat": 4,
  "nbformat_minor": 0,
  "metadata": {
    "colab": {
      "name": "Tareas_curso_python.ipynb",
      "provenance": [],
      "authorship_tag": "ABX9TyNirNF1O4ZjgIvFhE2N6Tqj",
      "include_colab_link": true
    },
    "kernelspec": {
      "name": "python3",
      "display_name": "Python 3"
    }
  },
  "cells": [
    {
      "cell_type": "markdown",
      "metadata": {
        "id": "view-in-github",
        "colab_type": "text"
      },
      "source": [
        "<a href=\"https://colab.research.google.com/github/AlexPGonzalezR/course_python/blob/main/Tareas_curso_python.ipynb\" target=\"_parent\"><img src=\"https://colab.research.google.com/assets/colab-badge.svg\" alt=\"Open In Colab\"/></a>"
      ]
    },
    {
      "cell_type": "code",
      "metadata": {
        "colab": {
          "base_uri": "https://localhost:8080/"
        },
        "id": "4cTgmUsAqcPx",
        "outputId": "a69e928f-c8fa-4ada-ccf9-8e33a02ce7a6"
      },
      "source": [
        "Sagasti={'nombre en español':\"Francisco Rafael Sagasti Hochhausler \",\n",
        "               'nacimiento':\"10 de octubre de 1944 \",\n",
        "               'Residencia':\"Lima, Perú\",\n",
        "         'nacionalidad':\"Peruana\",\n",
        "         'lengua materna':\"Español\",\n",
        "         'religión':\"Catolica\",\n",
        "         'partido político':\"Partido Morado\",\n",
        "         'padres':\"Francisco Sagasti Miller , Elsa Hochhäusler Reinisch\",\n",
        "         'cónyugue':\"Separado\",\n",
        "         'hijos':\"Amanda Sagasti\",\n",
        "         'educado en':\"Universidad de Ingenieria\",\n",
        "         'ocupación':\"Ingeniero Industrial\",}\n",
        "Sagasti"
      ],
      "execution_count": 4,
      "outputs": [
        {
          "output_type": "execute_result",
          "data": {
            "text/plain": [
              "{'Residencia': 'Lima, Perú',\n",
              " 'cónyugue': 'Separado',\n",
              " 'educado en': 'Universidad de Ingenieria',\n",
              " 'hijos': 'Amanda Sagasti',\n",
              " 'lengua materna': 'Español',\n",
              " 'nacimiento': '10 de octubre de 1944 ',\n",
              " 'nacionalidad': 'Peruana',\n",
              " 'nombre en español': 'Francisco Rafael Sagasti Hochhausler ',\n",
              " 'ocupación': 'Ingeniero Industrial',\n",
              " 'padres': 'Francisco Sagasti Miller , Elsa Hochhäusler Reinisch',\n",
              " 'partido político': 'Partido Morado',\n",
              " 'religión': 'Catolica'}"
            ]
          },
          "metadata": {
            "tags": []
          },
          "execution_count": 4
        }
      ]
    },
    {
      "cell_type": "code",
      "metadata": {
        "id": "aLDySF7qx3ar"
      },
      "source": [
        "padres=[\"Francisco Sagasti Miller , Elsa Hochhäusler Reinisch\"]\n",
        "hijos=[\"Amanda Sagasti\"]"
      ],
      "execution_count": 6,
      "outputs": []
    },
    {
      "cell_type": "code",
      "metadata": {
        "colab": {
          "base_uri": "https://localhost:8080/"
        },
        "id": "uy_GNNaO0mRU",
        "outputId": "cb0c5a2c-174b-4d4f-e386-7736f77ab9e7"
      },
      "source": [
        "Sagasti={'nombre en español':\"Francisco Rafael Sagasti Hochhausler \",\n",
        "               'nacimiento':\"10 de octubre de 1944 \",\n",
        "               'Residencia':\"Lima, Perú\",\n",
        "         'nacionalidad':\"Peruana\",\n",
        "         'lengua materna':\"Español\",\n",
        "         'religión':\"Catolica\",\n",
        "         'partido político':\"Partido Morado\",\n",
        "         'padres':padres,\n",
        "         'cónyugue':\"Separado\",\n",
        "         'hijos':hijos,\n",
        "         'educado en':\"Universidad de Ingenieria\",\n",
        "         'ocupación':\"Ingeniero Industrial\",}\n",
        "Sagasti"
      ],
      "execution_count": 7,
      "outputs": [
        {
          "output_type": "execute_result",
          "data": {
            "text/plain": [
              "{'Residencia': 'Lima, Perú',\n",
              " 'cónyugue': 'Separado',\n",
              " 'educado en': 'Universidad de Ingenieria',\n",
              " 'hijos': ['Amanda Sagasti'],\n",
              " 'lengua materna': 'Español',\n",
              " 'nacimiento': '10 de octubre de 1944 ',\n",
              " 'nacionalidad': 'Peruana',\n",
              " 'nombre en español': 'Francisco Rafael Sagasti Hochhausler ',\n",
              " 'ocupación': 'Ingeniero Industrial',\n",
              " 'padres': ['Francisco Sagasti Miller , Elsa Hochhäusler Reinisch'],\n",
              " 'partido político': 'Partido Morado',\n",
              " 'religión': 'Catolica'}"
            ]
          },
          "metadata": {
            "tags": []
          },
          "execution_count": 7
        }
      ]
    },
    {
      "cell_type": "code",
      "metadata": {
        "colab": {
          "base_uri": "https://localhost:8080/"
        },
        "id": "wVGjjhPB1VQn",
        "outputId": "7047d90b-cb30-4089-9f0a-590a6d8049c2"
      },
      "source": [
        "type(Sagasti)"
      ],
      "execution_count": 8,
      "outputs": [
        {
          "output_type": "execute_result",
          "data": {
            "text/plain": [
              "dict"
            ]
          },
          "metadata": {
            "tags": []
          },
          "execution_count": 8
        }
      ]
    },
    {
      "cell_type": "code",
      "metadata": {
        "colab": {
          "base_uri": "https://localhost:8080/"
        },
        "id": "uQCRZgly-O8x",
        "outputId": "3e3c29d8-056b-4baf-bfe2-fa68e1bed123"
      },
      "source": [
        "x=7\n",
        "if x % 2 == 0:\n",
        "    print (x, \"es par\")\n",
        "else:\n",
        "    print (x, \"es impar\")"
      ],
      "execution_count": 12,
      "outputs": [
        {
          "output_type": "stream",
          "text": [
            "7 es impar\n"
          ],
          "name": "stdout"
        }
      ]
    }
  ]
}